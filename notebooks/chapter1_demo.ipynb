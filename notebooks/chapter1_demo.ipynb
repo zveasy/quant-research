{
 "cells": [
  {
   "cell_type": "code",
   "execution_count": null,
   "id": "d46619b5-f48c-4957-a986-17c742169692",
   "metadata": {},
   "outputs": [],
   "source": [
    "from data_acquisition.openbb_data import (\n",
    "    get_stock_data,\n",
    "    get_futures_curve,\n",
    "    get_options_chain,\n",
    "    get_fama_french_factors\n",
    ")\n",
    "\n",
    "import matplotlib.pyplot as plt\n"
   ]
  },
  {
   "cell_type": "code",
   "execution_count": null,
   "id": "40f94251-f55f-4bb7-8591-64640ccdc53d",
   "metadata": {},
   "outputs": [],
   "source": [
    "spy_data = get_stock_data(\"SPY\")\n",
    "print(\"📈 SPY Historical Price Data:\")\n",
    "print(spy_data.head())\n"
   ]
  },
  {
   "cell_type": "code",
   "execution_count": null,
   "id": "1c9c0ba6-dff4-4b3e-ae49-3369c5c2a3fc",
   "metadata": {},
   "outputs": [],
   "source": [
    "vix_curve = get_futures_curve(\"VX\")\n",
    "vix_curve.index = pd.to_datetime(vix_curve.expiration)\n",
    "vix_curve[\"settle\"].plot(title=\"VIX Futures Curve\", marker='o')\n",
    "plt.xlabel(\"Expiration Date\")\n",
    "plt.ylabel(\"Settlement Price\")\n",
    "plt.grid(True)\n",
    "plt.show()\n"
   ]
  },
  {
   "cell_type": "code",
   "execution_count": null,
   "id": "51e1f1fa-99f2-45ce-9499-c4a3bf1cac9c",
   "metadata": {},
   "outputs": [],
   "source": [
    "options_chain = get_options_chain(\"SPY\")\n",
    "print(\"🧾 SPY Options Chain Info:\")\n",
    "print(options_chain.info())\n",
    "print(options_chain.head())\n"
   ]
  },
  {
   "cell_type": "code",
   "execution_count": null,
   "id": "36dc317d-4fc9-4a93-ae82-482c0e71521b",
   "metadata": {},
   "outputs": [],
   "source": [
    "factors = get_fama_french_factors()\n",
    "print(\"📘 Fama-French Factor Data Description:\")\n",
    "print(factors[\"DESCR\"])\n",
    "print(\"📊 Monthly Factors:\")\n",
    "print(factors[0].head())\n",
    "print(\"📊 Annual Factors:\")\n",
    "print(factors[1].head())\n"
   ]
  }
 ],
 "metadata": {
  "kernelspec": {
   "display_name": "Python 3 (ipykernel)",
   "language": "python",
   "name": "python3"
  },
  "language_info": {
   "codemirror_mode": {
    "name": "ipython",
    "version": 3
   },
   "file_extension": ".py",
   "mimetype": "text/x-python",
   "name": "python",
   "nbconvert_exporter": "python",
   "pygments_lexer": "ipython3",
   "version": "3.10.16"
  }
 },
 "nbformat": 4,
 "nbformat_minor": 5
}
