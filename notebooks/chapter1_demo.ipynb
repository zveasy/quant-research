{
 "cells": [
  {
   "cell_type": "code",
   "execution_count": 2,
   "id": "d46619b5-f48c-4957-a986-17c742169692",
   "metadata": {},
   "outputs": [
    {
     "ename": "ModuleNotFoundError",
     "evalue": "No module named 'data_acquisition'",
     "output_type": "error",
     "traceback": [
      "\u001b[0;31m---------------------------------------------------------------------------\u001b[0m",
      "\u001b[0;31mModuleNotFoundError\u001b[0m                       Traceback (most recent call last)",
      "Cell \u001b[0;32mIn[2], line 1\u001b[0m\n\u001b[0;32m----> 1\u001b[0m \u001b[38;5;28;01mfrom\u001b[39;00m\u001b[38;5;250m \u001b[39m\u001b[38;5;21;01mdata_acquisition\u001b[39;00m\u001b[38;5;21;01m.\u001b[39;00m\u001b[38;5;21;01mopenbb_data\u001b[39;00m\u001b[38;5;250m \u001b[39m\u001b[38;5;28;01mimport\u001b[39;00m (\n\u001b[1;32m      2\u001b[0m     get_stock_data,\n\u001b[1;32m      3\u001b[0m     get_futures_curve,\n\u001b[1;32m      4\u001b[0m     get_options_chain,\n\u001b[1;32m      5\u001b[0m     get_fama_french_factors\n\u001b[1;32m      6\u001b[0m )\n\u001b[1;32m      8\u001b[0m \u001b[38;5;28;01mimport\u001b[39;00m\u001b[38;5;250m \u001b[39m\u001b[38;5;21;01mmatplotlib\u001b[39;00m\u001b[38;5;21;01m.\u001b[39;00m\u001b[38;5;21;01mpyplot\u001b[39;00m\u001b[38;5;250m \u001b[39m\u001b[38;5;28;01mas\u001b[39;00m\u001b[38;5;250m \u001b[39m\u001b[38;5;21;01mplt\u001b[39;00m\n",
      "\u001b[0;31mModuleNotFoundError\u001b[0m: No module named 'data_acquisition'"
     ]
    }
   ],
   "source": [
    "from data_acquisition.openbb_data import (\n",
    "    get_stock_data,\n",
    "    get_futures_curve,\n",
    "    get_options_chain,\n",
    "    get_fama_french_factors\n",
    ")\n",
    "\n",
    "import matplotlib.pyplot as plt\n"
   ]
  },
  {
   "cell_type": "code",
   "execution_count": null,
   "id": "40f94251-f55f-4bb7-8591-64640ccdc53d",
   "metadata": {},
   "outputs": [],
   "source": [
    "spy_data = get_stock_data(\"SPY\")\n",
    "print(\"📈 SPY Historical Price Data:\")\n",
    "print(spy_data.head())\n"
   ]
  },
  {
   "cell_type": "code",
   "execution_count": null,
   "id": "1c9c0ba6-dff4-4b3e-ae49-3369c5c2a3fc",
   "metadata": {},
   "outputs": [],
   "source": [
    "vix_curve = get_futures_curve(\"VX\")\n",
    "vix_curve.index = pd.to_datetime(vix_curve.expiration)\n",
    "vix_curve[\"settle\"].plot(title=\"VIX Futures Curve\", marker='o')\n",
    "plt.xlabel(\"Expiration Date\")\n",
    "plt.ylabel(\"Settlement Price\")\n",
    "plt.grid(True)\n",
    "plt.show()\n"
   ]
  },
  {
   "cell_type": "code",
   "execution_count": null,
   "id": "51e1f1fa-99f2-45ce-9499-c4a3bf1cac9c",
   "metadata": {},
   "outputs": [],
   "source": [
    "options_chain = get_options_chain(\"SPY\")\n",
    "print(\"🧾 SPY Options Chain Info:\")\n",
    "print(options_chain.info())\n",
    "print(options_chain.head())\n"
   ]
  },
  {
   "cell_type": "code",
   "execution_count": null,
   "id": "36dc317d-4fc9-4a93-ae82-482c0e71521b",
   "metadata": {},
   "outputs": [],
   "source": [
    "factors = get_fama_french_factors()\n",
    "print(\"📘 Fama-French Factor Data Description:\")\n",
    "print(factors[\"DESCR\"])\n",
    "print(\"📊 Monthly Factors:\")\n",
    "print(factors[0].head())\n",
    "print(\"📊 Annual Factors:\")\n",
    "print(factors[1].head())\n"
   ]
  }
 ],
 "metadata": {
  "kernelspec": {
   "display_name": "Python 3 (ipykernel)",
   "language": "python",
   "name": "python3"
  },
  "language_info": {
   "codemirror_mode": {
    "name": "ipython",
    "version": 3
   },
   "file_extension": ".py",
   "mimetype": "text/x-python",
   "name": "python",
   "nbconvert_exporter": "python",
   "pygments_lexer": "ipython3",
   "version": "3.10.16"
  }
 },
 "nbformat": 4,
 "nbformat_minor": 5
}
