
{
 "cells": [
  {
   "cell_type": "markdown",
   "metadata": {},
   "source": [
    "# Fetch Stock Data from OpenBB (Jupyter Notebook)"
   ]
  },
  {
   "cell_type": "code",
   "execution_count": null,
   "metadata": {},
   "outputs": [],
   "source": [
    "# Install dependencies (only run once per environment)\n",
    "# !pip install \"openbb[all]\" matplotlib pandas"
   ]
  },
  {
   "cell_type": "code",
   "execution_count": null,
   "metadata": {},
   "outputs": [],
   "source": [
    "import pandas as pd\n",
    "import matplotlib.pyplot as plt\n",
    "from openbb import obb\n",
    "\n",
    "obb.user.preferences.output_type = \"dataframe\"\n",
    "print(\"✅ OpenBB configured.\")"
   ]
  },
  {
   "cell_type": "code",
   "execution_count": null,
   "metadata": {},
   "outputs": [],
   "source": [
    "symbols = ['AAPL', 'GOOG', 'MSFT', 'NVDA']\n",
    "start_date = '2015-01-01'\n",
    "dataframes = []"
   ]
  },
  {
   "cell_type": "code",
   "execution_count": null,
   "metadata": {},
   "outputs": [],
   "source": [
    "def fetch_data():\n",
    "    for symbol in symbols:\n",
    "        try:\n",
    "            data = obb.equity.price.historical(\n",
    "                symbol=symbol,\n",
    "                start_date=start_date,\n",
    "                provider=\"yfinance\"\n",
    "            )\n",
    "            data['Symbol'] = symbol\n",
    "            dataframes.append(data)\n",
    "            print(f\"✅ Data fetched for {symbol}\")\n",
    "        except Exception as e:\n",
    "            print(f\"❌ Failed to fetch {symbol}: {e}\")\n",
    "\n",
    "fetch_data()"
   ]
  },
  {
   "cell_type": "code",
   "execution_count": null,
   "metadata": {},
   "outputs": [],
   "source": [
    "if dataframes:\n",
    "    combined_data = pd.concat(dataframes)\n",
    "    combined_data = combined_data.reset_index()\n",
    "    display(combined_data.head())\n",
    "else:\n",
    "    print(\"No data fetched.\")"
   ]
  },
  {
   "cell_type": "code",
   "execution_count": null,
   "metadata": {},
   "outputs": [],
   "source": [
    "aapl = combined_data[combined_data['Symbol'] == 'AAPL']\n",
    "aapl.set_index('date')['close'].plot(title='AAPL Closing Price')\n",
    "plt.xlabel(\"Date\")\n",
    "plt.ylabel(\"Price\")\n",
    "plt.grid(True)\n",
    "plt.tight_layout()\n",
    "plt.show()"
   ]
  }
 ],
 "metadata": {
  "kernelspec": {
   "display_name": "Python 3",
   "language": "python",
   "name": "python3"
  },
  "language_info": {
   "name": "python",
   "version": "3.11"
  }
 },
 "nbformat": 4,
 "nbformat_minor": 5
}
